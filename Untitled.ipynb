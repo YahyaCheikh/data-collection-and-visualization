{
 "cells": [
  {
   "cell_type": "code",
   "execution_count": 631,
   "metadata": {},
   "outputs": [
    {
     "name": "stdout",
     "output_type": "stream",
     "text": [
      "Collecting community\n",
      "  Downloading community-1.0.0b1.tar.gz (2.2 kB)\n",
      "Requirement already satisfied: Flask in /home/yhaya/anaconda3/lib/python3.7/site-packages (from community) (1.1.1)\n",
      "Requirement already satisfied: requests in /home/yhaya/anaconda3/lib/python3.7/site-packages (from community) (2.22.0)\n",
      "Requirement already satisfied: Jinja2>=2.10.1 in /home/yhaya/anaconda3/lib/python3.7/site-packages (from Flask->community) (2.11.1)\n",
      "Requirement already satisfied: click>=5.1 in /home/yhaya/anaconda3/lib/python3.7/site-packages (from Flask->community) (7.0)\n",
      "Requirement already satisfied: Werkzeug>=0.15 in /home/yhaya/anaconda3/lib/python3.7/site-packages (from Flask->community) (1.0.0)\n",
      "Requirement already satisfied: itsdangerous>=0.24 in /home/yhaya/anaconda3/lib/python3.7/site-packages (from Flask->community) (1.1.0)\n",
      "Requirement already satisfied: idna<2.9,>=2.5 in /home/yhaya/anaconda3/lib/python3.7/site-packages (from requests->community) (2.8)\n",
      "Requirement already satisfied: certifi>=2017.4.17 in /home/yhaya/anaconda3/lib/python3.7/site-packages (from requests->community) (2019.11.28)\n",
      "Requirement already satisfied: urllib3!=1.25.0,!=1.25.1,<1.26,>=1.21.1 in /home/yhaya/anaconda3/lib/python3.7/site-packages (from requests->community) (1.25.8)\n",
      "Requirement already satisfied: chardet<3.1.0,>=3.0.2 in /home/yhaya/anaconda3/lib/python3.7/site-packages (from requests->community) (3.0.4)\n",
      "Requirement already satisfied: MarkupSafe>=0.23 in /home/yhaya/anaconda3/lib/python3.7/site-packages (from Jinja2>=2.10.1->Flask->community) (1.1.1)\n",
      "Building wheels for collected packages: community\n",
      "  Building wheel for community (setup.py) ... \u001b[?25ldone\n",
      "\u001b[?25h  Created wheel for community: filename=community-1.0.0b1-py3-none-any.whl size=2152 sha256=4b947b98f49eb8f299250c71b13b71826e1852a28985564b85fab537ab48eebb\n",
      "  Stored in directory: /home/yhaya/.cache/pip/wheels/d9/cf/a6/01e9b603fca646a52b27e42d5c5613cb167c5258109d59ea23\n",
      "Successfully built community\n",
      "Installing collected packages: community\n",
      "Successfully installed community-1.0.0b1\n"
     ]
    }
   ],
   "source": [
    "!pip install community"
   ]
  },
  {
   "cell_type": "code",
   "execution_count": 632,
   "metadata": {},
   "outputs": [],
   "source": [
    "import community"
   ]
  },
  {
   "cell_type": "code",
   "execution_count": null,
   "metadata": {},
   "outputs": [],
   "source": []
  }
 ],
 "metadata": {
  "kernelspec": {
   "display_name": "Python 3",
   "language": "python",
   "name": "python3"
  },
  "language_info": {
   "codemirror_mode": {
    "name": "ipython",
    "version": 3
   },
   "file_extension": ".py",
   "mimetype": "text/x-python",
   "name": "python",
   "nbconvert_exporter": "python",
   "pygments_lexer": "ipython3",
   "version": "3.7.6"
  }
 },
 "nbformat": 4,
 "nbformat_minor": 4
}
